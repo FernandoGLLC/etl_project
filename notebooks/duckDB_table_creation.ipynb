{
 "cells": [
  {
   "cell_type": "code",
   "execution_count": 3,
   "metadata": {},
   "outputs": [],
   "source": [
    "import pandas as pd\n",
    "import duckdb\n"
   ]
  },
  {
   "cell_type": "code",
   "execution_count": 4,
   "metadata": {},
   "outputs": [
    {
     "name": "stdout",
     "output_type": "stream",
     "text": [
      "┌─────────────────────┐\n",
      "│ 'DuckDB is working' │\n",
      "│       varchar       │\n",
      "├─────────────────────┤\n",
      "│ DuckDB is working   │\n",
      "└─────────────────────┘\n",
      "\n"
     ]
    }
   ],
   "source": [
    "duckdb.sql(\"SELECT 'DuckDB is working'\").show()"
   ]
  },
  {
   "cell_type": "code",
   "execution_count": null,
   "metadata": {},
   "outputs": [],
   "source": [
    "# Establish DuckDB connection\n",
    "#con = duckdb.connect('cinema_tickets.duckdb')\n",
    "con = duckdb.connect(database=':memory:')\n"
   ]
  },
  {
   "cell_type": "code",
   "execution_count": 7,
   "metadata": {},
   "outputs": [],
   "source": [
    "df = pd.read_csv('C:/Users/Fgllc/OneDrive/Escritorio/USC/etl_project/raw_data/cinemaTicket_Ref.csv')"
   ]
  },
  {
   "cell_type": "code",
   "execution_count": 8,
   "metadata": {},
   "outputs": [
    {
     "data": {
      "text/html": [
       "<div>\n",
       "<style scoped>\n",
       "    .dataframe tbody tr th:only-of-type {\n",
       "        vertical-align: middle;\n",
       "    }\n",
       "\n",
       "    .dataframe tbody tr th {\n",
       "        vertical-align: top;\n",
       "    }\n",
       "\n",
       "    .dataframe thead th {\n",
       "        text-align: right;\n",
       "    }\n",
       "</style>\n",
       "<table border=\"1\" class=\"dataframe\">\n",
       "  <thead>\n",
       "    <tr style=\"text-align: right;\">\n",
       "      <th></th>\n",
       "      <th>film_code</th>\n",
       "      <th>cinema_code</th>\n",
       "      <th>total_sales</th>\n",
       "      <th>tickets_sold</th>\n",
       "      <th>tickets_out</th>\n",
       "      <th>show_time</th>\n",
       "      <th>occu_perc</th>\n",
       "      <th>ticket_price</th>\n",
       "      <th>ticket_use</th>\n",
       "      <th>capacity</th>\n",
       "      <th>date</th>\n",
       "      <th>month</th>\n",
       "      <th>quarter</th>\n",
       "      <th>day</th>\n",
       "    </tr>\n",
       "  </thead>\n",
       "  <tbody>\n",
       "    <tr>\n",
       "      <th>0</th>\n",
       "      <td>1492</td>\n",
       "      <td>304</td>\n",
       "      <td>3900000</td>\n",
       "      <td>26</td>\n",
       "      <td>0</td>\n",
       "      <td>4</td>\n",
       "      <td>4.26</td>\n",
       "      <td>150000.0</td>\n",
       "      <td>26</td>\n",
       "      <td>610.328638</td>\n",
       "      <td>2018-05-05</td>\n",
       "      <td>5</td>\n",
       "      <td>2</td>\n",
       "      <td>5</td>\n",
       "    </tr>\n",
       "    <tr>\n",
       "      <th>1</th>\n",
       "      <td>1492</td>\n",
       "      <td>352</td>\n",
       "      <td>3360000</td>\n",
       "      <td>42</td>\n",
       "      <td>0</td>\n",
       "      <td>5</td>\n",
       "      <td>8.08</td>\n",
       "      <td>80000.0</td>\n",
       "      <td>42</td>\n",
       "      <td>519.801980</td>\n",
       "      <td>2018-05-05</td>\n",
       "      <td>5</td>\n",
       "      <td>2</td>\n",
       "      <td>5</td>\n",
       "    </tr>\n",
       "    <tr>\n",
       "      <th>2</th>\n",
       "      <td>1492</td>\n",
       "      <td>489</td>\n",
       "      <td>2560000</td>\n",
       "      <td>32</td>\n",
       "      <td>0</td>\n",
       "      <td>4</td>\n",
       "      <td>20.00</td>\n",
       "      <td>80000.0</td>\n",
       "      <td>32</td>\n",
       "      <td>160.000000</td>\n",
       "      <td>2018-05-05</td>\n",
       "      <td>5</td>\n",
       "      <td>2</td>\n",
       "      <td>5</td>\n",
       "    </tr>\n",
       "    <tr>\n",
       "      <th>3</th>\n",
       "      <td>1492</td>\n",
       "      <td>429</td>\n",
       "      <td>1200000</td>\n",
       "      <td>12</td>\n",
       "      <td>0</td>\n",
       "      <td>1</td>\n",
       "      <td>11.01</td>\n",
       "      <td>100000.0</td>\n",
       "      <td>12</td>\n",
       "      <td>108.991826</td>\n",
       "      <td>2018-05-05</td>\n",
       "      <td>5</td>\n",
       "      <td>2</td>\n",
       "      <td>5</td>\n",
       "    </tr>\n",
       "    <tr>\n",
       "      <th>4</th>\n",
       "      <td>1492</td>\n",
       "      <td>524</td>\n",
       "      <td>1200000</td>\n",
       "      <td>15</td>\n",
       "      <td>0</td>\n",
       "      <td>3</td>\n",
       "      <td>16.67</td>\n",
       "      <td>80000.0</td>\n",
       "      <td>15</td>\n",
       "      <td>89.982004</td>\n",
       "      <td>2018-05-05</td>\n",
       "      <td>5</td>\n",
       "      <td>2</td>\n",
       "      <td>5</td>\n",
       "    </tr>\n",
       "  </tbody>\n",
       "</table>\n",
       "</div>"
      ],
      "text/plain": [
       "   film_code  cinema_code  total_sales  tickets_sold  tickets_out  show_time  \\\n",
       "0       1492          304      3900000            26            0          4   \n",
       "1       1492          352      3360000            42            0          5   \n",
       "2       1492          489      2560000            32            0          4   \n",
       "3       1492          429      1200000            12            0          1   \n",
       "4       1492          524      1200000            15            0          3   \n",
       "\n",
       "   occu_perc  ticket_price  ticket_use    capacity        date  month  \\\n",
       "0       4.26      150000.0          26  610.328638  2018-05-05      5   \n",
       "1       8.08       80000.0          42  519.801980  2018-05-05      5   \n",
       "2      20.00       80000.0          32  160.000000  2018-05-05      5   \n",
       "3      11.01      100000.0          12  108.991826  2018-05-05      5   \n",
       "4      16.67       80000.0          15   89.982004  2018-05-05      5   \n",
       "\n",
       "   quarter  day  \n",
       "0        2    5  \n",
       "1        2    5  \n",
       "2        2    5  \n",
       "3        2    5  \n",
       "4        2    5  "
      ]
     },
     "execution_count": 8,
     "metadata": {},
     "output_type": "execute_result"
    }
   ],
   "source": [
    "df.head()"
   ]
  },
  {
   "cell_type": "code",
   "execution_count": 9,
   "metadata": {},
   "outputs": [
    {
     "data": {
      "text/plain": [
       "<duckdb.duckdb.DuckDBPyConnection at 0x227bde03330>"
      ]
     },
     "execution_count": 9,
     "metadata": {},
     "output_type": "execute_result"
    }
   ],
   "source": [
    "# Create table in DuckDB from DataFrame\n",
    "con.execute(\"CREATE TABLE cinema_tickets AS SELECT * FROM df\")\n"
   ]
  },
  {
   "cell_type": "code",
   "execution_count": 10,
   "metadata": {},
   "outputs": [
    {
     "name": "stdout",
     "output_type": "stream",
     "text": [
      "[(1492, 304, 3900000, 26, 0, 4, 4.26, 150000.0, 26, 610.3286384976526, '2018-05-05', 5, 2, 5), (1492, 352, 3360000, 42, 0, 5, 8.08, 80000.0, 42, 519.8019801980198, '2018-05-05', 5, 2, 5), (1492, 489, 2560000, 32, 0, 4, 20.0, 80000.0, 32, 160.0, '2018-05-05', 5, 2, 5), (1492, 429, 1200000, 12, 0, 1, 11.01, 100000.0, 12, 108.99182561307904, '2018-05-05', 5, 2, 5), (1492, 524, 1200000, 15, 0, 3, 16.67, 80000.0, 15, 89.98200359928013, '2018-05-05', 5, 2, 5), (1492, 71, 1050000, 7, 0, 3, 0.98, 150000.0, 7, 714.2857142857143, '2018-05-05', 5, 2, 5), (1492, 163, 1020000, 10, 0, 3, 7.69, 102000.0, 10, 130.03901170351105, '2018-05-05', 5, 2, 5), (1492, 450, 750000, 5, 0, 3, 1.57, 150000.0, 5, 318.4713375796178, '2018-05-05', 5, 2, 5), (1492, 51, 750000, 11, 0, 2, 0.95, 68181.81818181818, 11, 1157.8947368421052, '2018-05-05', 5, 2, 5), (1492, 522, 600000, 4, 0, 3, 1.55, 150000.0, 4, 258.06451612903226, '2018-05-05', 5, 2, 5)]\n"
     ]
    }
   ],
   "source": [
    "# Retrieve and print the first 10 rows from the table\n",
    "result = con.execute(\"SELECT * FROM cinema_tickets LIMIT 10\").fetchall()\n",
    "print(result)\n"
   ]
  },
  {
   "cell_type": "markdown",
   "metadata": {},
   "source": [
    "1. Created DuckDB Instance: You created and connected to a DuckDB database using duckdb.connect().\n",
    "\n",
    "\n",
    "\n",
    "2. Manually Created Table: You explicitly defined the structure of the cinema_tickets table with the CREATE TABLE SQL query, specifying the column names and types.\n",
    "\n",
    "\n",
    "3. Imported CSV to Pandas DataFrame: You read the CSV file using Pandas (pd.read_csv()), which loaded the data into the df DataFrame.\n",
    "\n",
    "\n",
    "4. Populated the DuckDB Table: You then used the CREATE TABLE AS SELECT * FROM df method to insert the data from the DataFrame into the DuckDB table.\n",
    "\n"
   ]
  },
  {
   "cell_type": "markdown",
   "metadata": {},
   "source": [
    "So the flow is:\n",
    "\n",
    "DuckDB Table Structure: You first define the schema with CREATE TABLE.\n",
    "\n",
    "\n",
    "CSV → Pandas DataFrame: Then you read the CSV file into a DataFrame.\n",
    "\n",
    "\n",
    "DataFrame → DuckDB Table: Finally, you populate the DuckDB table using the DataFrame.\n"
   ]
  },
  {
   "cell_type": "code",
   "execution_count": null,
   "metadata": {},
   "outputs": [],
   "source": []
  }
 ],
 "metadata": {
  "kernelspec": {
   "display_name": "venv",
   "language": "python",
   "name": "python3"
  },
  "language_info": {
   "codemirror_mode": {
    "name": "ipython",
    "version": 3
   },
   "file_extension": ".py",
   "mimetype": "text/x-python",
   "name": "python",
   "nbconvert_exporter": "python",
   "pygments_lexer": "ipython3",
   "version": "3.13.2"
  }
 },
 "nbformat": 4,
 "nbformat_minor": 2
}
