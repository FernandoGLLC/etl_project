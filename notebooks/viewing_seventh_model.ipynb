{
 "cells": [
  {
   "cell_type": "markdown",
   "id": "cb8e7805",
   "metadata": {},
   "source": [
    "MODEL 7:\n",
    "\n",
    "SAME AS MODEL 4 BUT INSTEAD OF MONTHLY, THIS ONE SHOWS DAILY REVENUE"
   ]
  },
  {
   "cell_type": "code",
   "execution_count": 1,
   "id": "c7e7eba9",
   "metadata": {},
   "outputs": [],
   "source": [
    "import duckdb"
   ]
  },
  {
   "cell_type": "code",
   "execution_count": 2,
   "id": "053c9b94",
   "metadata": {},
   "outputs": [
    {
     "data": {
      "text/plain": [
       "<duckdb.duckdb.DuckDBPyConnection at 0x1cae6430b30>"
      ]
     },
     "execution_count": 2,
     "metadata": {},
     "output_type": "execute_result"
    }
   ],
   "source": [
    "conn = duckdb.connect('c:/Users/Fgllc/OneDrive/Escritorio/USC/etl_project/cinema_tickets.duckdb')\n",
    "conn"
   ]
  },
  {
   "cell_type": "markdown",
   "id": "8daee720",
   "metadata": {},
   "source": [
    "MODEL 7 QUERY:\n"
   ]
  },
  {
   "cell_type": "code",
   "execution_count": 3,
   "id": "1424b4cb",
   "metadata": {},
   "outputs": [
    {
     "data": {
      "text/html": [
       "<div>\n",
       "<style scoped>\n",
       "    .dataframe tbody tr th:only-of-type {\n",
       "        vertical-align: middle;\n",
       "    }\n",
       "\n",
       "    .dataframe tbody tr th {\n",
       "        vertical-align: top;\n",
       "    }\n",
       "\n",
       "    .dataframe thead th {\n",
       "        text-align: right;\n",
       "    }\n",
       "</style>\n",
       "<table border=\"1\" class=\"dataframe\">\n",
       "  <thead>\n",
       "    <tr style=\"text-align: right;\">\n",
       "      <th></th>\n",
       "      <th>cinema_code</th>\n",
       "      <th>day</th>\n",
       "      <th>daily_revenue</th>\n",
       "    </tr>\n",
       "  </thead>\n",
       "  <tbody>\n",
       "    <tr>\n",
       "      <th>0</th>\n",
       "      <td>448</td>\n",
       "      <td>1</td>\n",
       "      <td>4089629.25</td>\n",
       "    </tr>\n",
       "    <tr>\n",
       "      <th>1</th>\n",
       "      <td>304</td>\n",
       "      <td>1</td>\n",
       "      <td>1931785.00</td>\n",
       "    </tr>\n",
       "    <tr>\n",
       "      <th>2</th>\n",
       "      <td>524</td>\n",
       "      <td>1</td>\n",
       "      <td>1221362.50</td>\n",
       "    </tr>\n",
       "    <tr>\n",
       "      <th>3</th>\n",
       "      <td>489</td>\n",
       "      <td>1</td>\n",
       "      <td>1199952.50</td>\n",
       "    </tr>\n",
       "    <tr>\n",
       "      <th>4</th>\n",
       "      <td>344</td>\n",
       "      <td>1</td>\n",
       "      <td>1106455.00</td>\n",
       "    </tr>\n",
       "    <tr>\n",
       "      <th>...</th>\n",
       "      <td>...</td>\n",
       "      <td>...</td>\n",
       "      <td>...</td>\n",
       "    </tr>\n",
       "    <tr>\n",
       "      <th>7401</th>\n",
       "      <td>525</td>\n",
       "      <td>31</td>\n",
       "      <td>680.00</td>\n",
       "    </tr>\n",
       "    <tr>\n",
       "      <th>7402</th>\n",
       "      <td>465</td>\n",
       "      <td>31</td>\n",
       "      <td>540.00</td>\n",
       "    </tr>\n",
       "    <tr>\n",
       "      <th>7403</th>\n",
       "      <td>512</td>\n",
       "      <td>31</td>\n",
       "      <td>450.00</td>\n",
       "    </tr>\n",
       "    <tr>\n",
       "      <th>7404</th>\n",
       "      <td>215</td>\n",
       "      <td>31</td>\n",
       "      <td>350.00</td>\n",
       "    </tr>\n",
       "    <tr>\n",
       "      <th>7405</th>\n",
       "      <td>543</td>\n",
       "      <td>31</td>\n",
       "      <td>100.00</td>\n",
       "    </tr>\n",
       "  </tbody>\n",
       "</table>\n",
       "<p>7406 rows × 3 columns</p>\n",
       "</div>"
      ],
      "text/plain": [
       "      cinema_code  day  daily_revenue\n",
       "0             448    1     4089629.25\n",
       "1             304    1     1931785.00\n",
       "2             524    1     1221362.50\n",
       "3             489    1     1199952.50\n",
       "4             344    1     1106455.00\n",
       "...           ...  ...            ...\n",
       "7401          525   31         680.00\n",
       "7402          465   31         540.00\n",
       "7403          512   31         450.00\n",
       "7404          215   31         350.00\n",
       "7405          543   31         100.00\n",
       "\n",
       "[7406 rows x 3 columns]"
      ]
     },
     "execution_count": 3,
     "metadata": {},
     "output_type": "execute_result"
    }
   ],
   "source": [
    "query = \"\"\"\n",
    "SELECT \n",
    "    cinema_code,\n",
    "    day,\n",
    "    SUM(total_revenue_usd) AS daily_revenue\n",
    "FROM master_model\n",
    "GROUP BY cinema_code, day\n",
    "ORDER by day, daily_revenue DESC\n",
    "\"\"\"\n",
    "\n",
    "conn.execute(query).fetch_df()"
   ]
  },
  {
   "cell_type": "markdown",
   "id": "a06a4d1c",
   "metadata": {},
   "source": [
    "CHECKING IF MODEL RUNS:"
   ]
  },
  {
   "cell_type": "code",
   "execution_count": 4,
   "id": "387dc06f",
   "metadata": {},
   "outputs": [
    {
     "data": {
      "text/html": [
       "<div>\n",
       "<style scoped>\n",
       "    .dataframe tbody tr th:only-of-type {\n",
       "        vertical-align: middle;\n",
       "    }\n",
       "\n",
       "    .dataframe tbody tr th {\n",
       "        vertical-align: top;\n",
       "    }\n",
       "\n",
       "    .dataframe thead th {\n",
       "        text-align: right;\n",
       "    }\n",
       "</style>\n",
       "<table border=\"1\" class=\"dataframe\">\n",
       "  <thead>\n",
       "    <tr style=\"text-align: right;\">\n",
       "      <th></th>\n",
       "      <th>cinema_code</th>\n",
       "      <th>day</th>\n",
       "      <th>daily_revenue</th>\n",
       "    </tr>\n",
       "  </thead>\n",
       "  <tbody>\n",
       "    <tr>\n",
       "      <th>0</th>\n",
       "      <td>448</td>\n",
       "      <td>1</td>\n",
       "      <td>4089629.25</td>\n",
       "    </tr>\n",
       "    <tr>\n",
       "      <th>1</th>\n",
       "      <td>304</td>\n",
       "      <td>1</td>\n",
       "      <td>1931785.00</td>\n",
       "    </tr>\n",
       "    <tr>\n",
       "      <th>2</th>\n",
       "      <td>524</td>\n",
       "      <td>1</td>\n",
       "      <td>1221362.50</td>\n",
       "    </tr>\n",
       "    <tr>\n",
       "      <th>3</th>\n",
       "      <td>489</td>\n",
       "      <td>1</td>\n",
       "      <td>1199952.50</td>\n",
       "    </tr>\n",
       "    <tr>\n",
       "      <th>4</th>\n",
       "      <td>344</td>\n",
       "      <td>1</td>\n",
       "      <td>1106455.00</td>\n",
       "    </tr>\n",
       "    <tr>\n",
       "      <th>...</th>\n",
       "      <td>...</td>\n",
       "      <td>...</td>\n",
       "      <td>...</td>\n",
       "    </tr>\n",
       "    <tr>\n",
       "      <th>7401</th>\n",
       "      <td>525</td>\n",
       "      <td>31</td>\n",
       "      <td>680.00</td>\n",
       "    </tr>\n",
       "    <tr>\n",
       "      <th>7402</th>\n",
       "      <td>465</td>\n",
       "      <td>31</td>\n",
       "      <td>540.00</td>\n",
       "    </tr>\n",
       "    <tr>\n",
       "      <th>7403</th>\n",
       "      <td>512</td>\n",
       "      <td>31</td>\n",
       "      <td>450.00</td>\n",
       "    </tr>\n",
       "    <tr>\n",
       "      <th>7404</th>\n",
       "      <td>215</td>\n",
       "      <td>31</td>\n",
       "      <td>350.00</td>\n",
       "    </tr>\n",
       "    <tr>\n",
       "      <th>7405</th>\n",
       "      <td>543</td>\n",
       "      <td>31</td>\n",
       "      <td>100.00</td>\n",
       "    </tr>\n",
       "  </tbody>\n",
       "</table>\n",
       "<p>7406 rows × 3 columns</p>\n",
       "</div>"
      ],
      "text/plain": [
       "      cinema_code  day  daily_revenue\n",
       "0             448    1     4089629.25\n",
       "1             304    1     1931785.00\n",
       "2             524    1     1221362.50\n",
       "3             489    1     1199952.50\n",
       "4             344    1     1106455.00\n",
       "...           ...  ...            ...\n",
       "7401          525   31         680.00\n",
       "7402          465   31         540.00\n",
       "7403          512   31         450.00\n",
       "7404          215   31         350.00\n",
       "7405          543   31         100.00\n",
       "\n",
       "[7406 rows x 3 columns]"
      ]
     },
     "execution_count": 4,
     "metadata": {},
     "output_type": "execute_result"
    }
   ],
   "source": [
    "conn.execute('SELECT * FROM seventh_model').fetch_df()"
   ]
  },
  {
   "cell_type": "code",
   "execution_count": 5,
   "id": "3afbdc68",
   "metadata": {},
   "outputs": [],
   "source": [
    "conn.close()"
   ]
  },
  {
   "cell_type": "code",
   "execution_count": null,
   "id": "eb9beace",
   "metadata": {},
   "outputs": [],
   "source": []
  }
 ],
 "metadata": {
  "kernelspec": {
   "display_name": "venv",
   "language": "python",
   "name": "python3"
  },
  "language_info": {
   "codemirror_mode": {
    "name": "ipython",
    "version": 3
   },
   "file_extension": ".py",
   "mimetype": "text/x-python",
   "name": "python",
   "nbconvert_exporter": "python",
   "pygments_lexer": "ipython3",
   "version": "3.13.2"
  }
 },
 "nbformat": 4,
 "nbformat_minor": 5
}
