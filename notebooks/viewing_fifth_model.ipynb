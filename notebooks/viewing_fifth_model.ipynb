{
 "cells": [
  {
   "cell_type": "markdown",
   "id": "0f28bdf4",
   "metadata": {},
   "source": [
    "Model 5\n",
    "\n",
    "Business question: How full are cinemas on average? Who's underperforming or performing best?\n",
    "\n",
    "\n",
    "Takeaways: Highlights underperforming cinemas with consistently low occupancy, helping identify opportunities to optimize scheduling, marketing, or capacity management."
   ]
  },
  {
   "cell_type": "code",
   "execution_count": 1,
   "id": "7034e713",
   "metadata": {},
   "outputs": [],
   "source": [
    "import duckdb"
   ]
  },
  {
   "cell_type": "code",
   "execution_count": 2,
   "id": "f4683301",
   "metadata": {},
   "outputs": [
    {
     "data": {
      "text/plain": [
       "<duckdb.duckdb.DuckDBPyConnection at 0x1a5f5b7a530>"
      ]
     },
     "execution_count": 2,
     "metadata": {},
     "output_type": "execute_result"
    }
   ],
   "source": [
    "conn = duckdb.connect('c:/Users/Fgllc/OneDrive/Escritorio/USC/etl_project/cinema_tickets.duckdb')\n",
    "conn"
   ]
  },
  {
   "cell_type": "code",
   "execution_count": 3,
   "id": "aa13e402",
   "metadata": {},
   "outputs": [
    {
     "data": {
      "text/plain": [
       "[('base_model',),\n",
       " ('cinema_tickets',),\n",
       " ('fifth_model',),\n",
       " ('fourth_model',),\n",
       " ('master_model',),\n",
       " ('second_model',),\n",
       " ('seventh_model',),\n",
       " ('sixth_model',),\n",
       " ('third_model',)]"
      ]
     },
     "execution_count": 3,
     "metadata": {},
     "output_type": "execute_result"
    }
   ],
   "source": [
    "conn.execute('SHOW TABLES').fetchall()"
   ]
  },
  {
   "cell_type": "code",
   "execution_count": 4,
   "id": "7250f96b",
   "metadata": {},
   "outputs": [
    {
     "data": {
      "text/html": [
       "<div>\n",
       "<style scoped>\n",
       "    .dataframe tbody tr th:only-of-type {\n",
       "        vertical-align: middle;\n",
       "    }\n",
       "\n",
       "    .dataframe tbody tr th {\n",
       "        vertical-align: top;\n",
       "    }\n",
       "\n",
       "    .dataframe thead th {\n",
       "        text-align: right;\n",
       "    }\n",
       "</style>\n",
       "<table border=\"1\" class=\"dataframe\">\n",
       "  <thead>\n",
       "    <tr style=\"text-align: right;\">\n",
       "      <th></th>\n",
       "      <th>cinema_code</th>\n",
       "      <th>avg_occupancy</th>\n",
       "    </tr>\n",
       "  </thead>\n",
       "  <tbody>\n",
       "    <tr>\n",
       "      <th>0</th>\n",
       "      <td>474</td>\n",
       "      <td>64.01</td>\n",
       "    </tr>\n",
       "    <tr>\n",
       "      <th>1</th>\n",
       "      <td>390</td>\n",
       "      <td>58.79</td>\n",
       "    </tr>\n",
       "    <tr>\n",
       "      <th>2</th>\n",
       "      <td>35</td>\n",
       "      <td>45.87</td>\n",
       "    </tr>\n",
       "    <tr>\n",
       "      <th>3</th>\n",
       "      <td>485</td>\n",
       "      <td>45.15</td>\n",
       "    </tr>\n",
       "    <tr>\n",
       "      <th>4</th>\n",
       "      <td>316</td>\n",
       "      <td>40.28</td>\n",
       "    </tr>\n",
       "    <tr>\n",
       "      <th>...</th>\n",
       "      <td>...</td>\n",
       "      <td>...</td>\n",
       "    </tr>\n",
       "    <tr>\n",
       "      <th>241</th>\n",
       "      <td>458</td>\n",
       "      <td>0.81</td>\n",
       "    </tr>\n",
       "    <tr>\n",
       "      <th>242</th>\n",
       "      <td>215</td>\n",
       "      <td>0.36</td>\n",
       "    </tr>\n",
       "    <tr>\n",
       "      <th>243</th>\n",
       "      <td>557</td>\n",
       "      <td>0.00</td>\n",
       "    </tr>\n",
       "    <tr>\n",
       "      <th>244</th>\n",
       "      <td>543</td>\n",
       "      <td>NaN</td>\n",
       "    </tr>\n",
       "    <tr>\n",
       "      <th>245</th>\n",
       "      <td>637</td>\n",
       "      <td>NaN</td>\n",
       "    </tr>\n",
       "  </tbody>\n",
       "</table>\n",
       "<p>246 rows × 2 columns</p>\n",
       "</div>"
      ],
      "text/plain": [
       "     cinema_code  avg_occupancy\n",
       "0            474          64.01\n",
       "1            390          58.79\n",
       "2             35          45.87\n",
       "3            485          45.15\n",
       "4            316          40.28\n",
       "..           ...            ...\n",
       "241          458           0.81\n",
       "242          215           0.36\n",
       "243          557           0.00\n",
       "244          543            NaN\n",
       "245          637            NaN\n",
       "\n",
       "[246 rows x 2 columns]"
      ]
     },
     "execution_count": 4,
     "metadata": {},
     "output_type": "execute_result"
    }
   ],
   "source": [
    "query = \"\"\"\n",
    "SELECT \n",
    "    cinema_code,\n",
    "    ROUND(AVG(occu_perc), 2) AS avg_occupancy\n",
    "FROM master_model\n",
    "GROUP BY cinema_code\n",
    "ORDER BY avg_occupancy DESC\n",
    "\"\"\"\n",
    "\n",
    "conn.execute(query).fetchdf()"
   ]
  },
  {
   "cell_type": "markdown",
   "id": "a20666e4",
   "metadata": {},
   "source": [
    "This model helps out identifying how well the cinemas are utilizing their available seating. \n",
    "\n",
    "Low numbers → poor attendance (opportunity to investigate why).\n",
    "\n",
    "Higher numbers → better performance (could double down on marketing or scheduling similar films)"
   ]
  },
  {
   "cell_type": "code",
   "execution_count": 5,
   "id": "f3c56581",
   "metadata": {},
   "outputs": [
    {
     "data": {
      "text/html": [
       "<div>\n",
       "<style scoped>\n",
       "    .dataframe tbody tr th:only-of-type {\n",
       "        vertical-align: middle;\n",
       "    }\n",
       "\n",
       "    .dataframe tbody tr th {\n",
       "        vertical-align: top;\n",
       "    }\n",
       "\n",
       "    .dataframe thead th {\n",
       "        text-align: right;\n",
       "    }\n",
       "</style>\n",
       "<table border=\"1\" class=\"dataframe\">\n",
       "  <thead>\n",
       "    <tr style=\"text-align: right;\">\n",
       "      <th></th>\n",
       "      <th>cinema_code</th>\n",
       "      <th>avg_occupancy</th>\n",
       "    </tr>\n",
       "  </thead>\n",
       "  <tbody>\n",
       "    <tr>\n",
       "      <th>0</th>\n",
       "      <td>474</td>\n",
       "      <td>64.01</td>\n",
       "    </tr>\n",
       "    <tr>\n",
       "      <th>1</th>\n",
       "      <td>390</td>\n",
       "      <td>58.79</td>\n",
       "    </tr>\n",
       "    <tr>\n",
       "      <th>2</th>\n",
       "      <td>35</td>\n",
       "      <td>45.87</td>\n",
       "    </tr>\n",
       "    <tr>\n",
       "      <th>3</th>\n",
       "      <td>485</td>\n",
       "      <td>45.15</td>\n",
       "    </tr>\n",
       "    <tr>\n",
       "      <th>4</th>\n",
       "      <td>316</td>\n",
       "      <td>40.28</td>\n",
       "    </tr>\n",
       "    <tr>\n",
       "      <th>5</th>\n",
       "      <td>304</td>\n",
       "      <td>40.24</td>\n",
       "    </tr>\n",
       "    <tr>\n",
       "      <th>6</th>\n",
       "      <td>430</td>\n",
       "      <td>40.01</td>\n",
       "    </tr>\n",
       "    <tr>\n",
       "      <th>7</th>\n",
       "      <td>524</td>\n",
       "      <td>39.61</td>\n",
       "    </tr>\n",
       "    <tr>\n",
       "      <th>8</th>\n",
       "      <td>456</td>\n",
       "      <td>39.42</td>\n",
       "    </tr>\n",
       "    <tr>\n",
       "      <th>9</th>\n",
       "      <td>497</td>\n",
       "      <td>38.13</td>\n",
       "    </tr>\n",
       "  </tbody>\n",
       "</table>\n",
       "</div>"
      ],
      "text/plain": [
       "   cinema_code  avg_occupancy\n",
       "0          474          64.01\n",
       "1          390          58.79\n",
       "2           35          45.87\n",
       "3          485          45.15\n",
       "4          316          40.28\n",
       "5          304          40.24\n",
       "6          430          40.01\n",
       "7          524          39.61\n",
       "8          456          39.42\n",
       "9          497          38.13"
      ]
     },
     "execution_count": 5,
     "metadata": {},
     "output_type": "execute_result"
    }
   ],
   "source": [
    "#checking if model works\n",
    "fifth_model = \"\"\"\n",
    "SELECT *\n",
    "FROM fifth_model\n",
    "ORDER BY avg_occupancy DESC\n",
    "\"\"\"\n",
    "\n",
    "conn.execute(fifth_model).fetchdf().head(10)"
   ]
  },
  {
   "cell_type": "code",
   "execution_count": 6,
   "id": "ae90bccf",
   "metadata": {},
   "outputs": [],
   "source": [
    "conn.close()"
   ]
  },
  {
   "cell_type": "code",
   "execution_count": null,
   "id": "9dc1edf2",
   "metadata": {},
   "outputs": [],
   "source": []
  }
 ],
 "metadata": {
  "kernelspec": {
   "display_name": "venv",
   "language": "python",
   "name": "python3"
  },
  "language_info": {
   "codemirror_mode": {
    "name": "ipython",
    "version": 3
   },
   "file_extension": ".py",
   "mimetype": "text/x-python",
   "name": "python",
   "nbconvert_exporter": "python",
   "pygments_lexer": "ipython3",
   "version": "3.13.2"
  }
 },
 "nbformat": 4,
 "nbformat_minor": 5
}
