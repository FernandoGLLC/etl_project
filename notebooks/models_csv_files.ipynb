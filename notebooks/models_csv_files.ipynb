{
 "cells": [
  {
   "cell_type": "code",
   "execution_count": 30,
   "id": "2da0821f",
   "metadata": {},
   "outputs": [],
   "source": [
    "import duckdb\n",
    "\n",
    "conn = duckdb.connect('c:/Users/Fgllc/OneDrive/Escritorio/USC/etl_project/cinema_tickets.duckdb')"
   ]
  },
  {
   "cell_type": "code",
   "execution_count": 31,
   "id": "d6070d1e",
   "metadata": {},
   "outputs": [],
   "source": [
    "tables = [\"master_model\",\n",
    "    \"second_model\",\n",
    "    \"third_model\",\n",
    "    \"fourth_model\",\n",
    "    \"fifth_model\",\n",
    "    \"sixth_model\",\n",
    "    \"seventh_model\",\n",
    "    \"cinema_tickets\"]"
   ]
  },
  {
   "cell_type": "code",
   "execution_count": 32,
   "id": "cdde7e3a",
   "metadata": {},
   "outputs": [
    {
     "name": "stdout",
     "output_type": "stream",
     "text": [
      "✅ Exported master_model to master_model.csv\n",
      "✅ Exported second_model to second_model.csv\n",
      "✅ Exported third_model to third_model.csv\n",
      "✅ Exported fourth_model to fourth_model.csv\n",
      "✅ Exported fifth_model to fifth_model.csv\n",
      "✅ Exported sixth_model to sixth_model.csv\n",
      "✅ Exported seventh_model to seventh_model.csv\n",
      "✅ Exported cinema_tickets to cinema_tickets.csv\n"
     ]
    }
   ],
   "source": [
    "for table in tables:\n",
    "    file_name = f\"{table}.csv\"\n",
    "    conn.execute(f\"\"\"\n",
    "        COPY {table} TO '{file_name}' (HEADER, DELIMITER ',');\n",
    "    \"\"\")\n",
    "    print(f\"✅ Exported {table} to {file_name}\")\n"
   ]
  },
  {
   "cell_type": "code",
   "execution_count": 33,
   "id": "80afe30e",
   "metadata": {},
   "outputs": [],
   "source": [
    "# conn.close()"
   ]
  },
  {
   "cell_type": "markdown",
   "id": "7b5180e7",
   "metadata": {},
   "source": [
    "FIXING FOURTH MODEL AND RE-IMPORTING THE CSV FILE WITH MODEL UPDATED."
   ]
  },
  {
   "cell_type": "code",
   "execution_count": 34,
   "id": "1a1d6cc2",
   "metadata": {},
   "outputs": [],
   "source": [
    "\n",
    "# conn.execute(\"\"\"\n",
    "#     COPY fourth_model TO 'c:/Users/Fgllc/OneDrive/Escritorio/USC/etl_project/csv_files/fourth_model.csv' (HEADER, DELIMITER ',');\n",
    "# \"\"\")\n",
    "# print(\"✅ Exported updated fourth_model to csv_files ✅\")"
   ]
  },
  {
   "cell_type": "markdown",
   "id": "8bb6673b",
   "metadata": {},
   "source": [
    "FIXING FIFTH MODEL AND RE-IMPORTING THE CSV FILE WITH MODEL UPDATED."
   ]
  },
  {
   "cell_type": "code",
   "execution_count": 35,
   "id": "3b0f3559",
   "metadata": {},
   "outputs": [],
   "source": [
    "\n",
    "# conn.execute(\"\"\"\n",
    "#     COPY fifth_model TO 'c:/Users/Fgllc/OneDrive/Escritorio/USC/etl_project/csv_files/fifth_model.csv' (HEADER, DELIMITER ',');\n",
    "# \"\"\")\n",
    "# print(\"✅ Exported updated ffith_model to csv_files ✅\")"
   ]
  },
  {
   "cell_type": "code",
   "execution_count": 36,
   "id": "f4a6de77",
   "metadata": {},
   "outputs": [
    {
     "ename": "SyntaxError",
     "evalue": "invalid syntax (95354507.py, line 4)",
     "output_type": "error",
     "traceback": [
      "  \u001b[36mCell\u001b[39m\u001b[36m \u001b[39m\u001b[32mIn[36]\u001b[39m\u001b[32m, line 4\u001b[39m\n\u001b[31m    \u001b[39m\u001b[31mprint(\"✅ Exported updated seventh_model to csv_files ✅\")?\u001b[39m\n                                                            ^\n\u001b[31mSyntaxError\u001b[39m\u001b[31m:\u001b[39m invalid syntax\n"
     ]
    }
   ],
   "source": [
    "\n",
    "conn.execute(\"\"\"\n",
    "    COPY seventh_model TO 'c:/Users/Fgllc/OneDrive/Escritorio/USC/etl_project/csv_files/seventh_model.csv' (HEADER, DELIMITER ',');\n",
    "\"\"\")\n",
    "print(\"✅ Exported updated seventh_model to csv_files ✅\")?"
   ]
  },
  {
   "cell_type": "code",
   "execution_count": null,
   "id": "5493f8a8",
   "metadata": {},
   "outputs": [],
   "source": []
  }
 ],
 "metadata": {
  "kernelspec": {
   "display_name": "venv",
   "language": "python",
   "name": "python3"
  },
  "language_info": {
   "codemirror_mode": {
    "name": "ipython",
    "version": 3
   },
   "file_extension": ".py",
   "mimetype": "text/x-python",
   "name": "python",
   "nbconvert_exporter": "python",
   "pygments_lexer": "ipython3",
   "version": "3.13.2"
  }
 },
 "nbformat": 4,
 "nbformat_minor": 5
}
