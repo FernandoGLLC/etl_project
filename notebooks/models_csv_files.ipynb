{
 "cells": [
  {
   "cell_type": "code",
   "execution_count": 30,
   "id": "2da0821f",
   "metadata": {},
   "outputs": [],
   "source": [
    "import duckdb\n",
    "\n",
    "conn = duckdb.connect('c:/Users/Fgllc/OneDrive/Escritorio/USC/etl_project/cinema_tickets.duckdb')"
   ]
  },
  {
   "cell_type": "code",
   "execution_count": 31,
   "id": "d6070d1e",
   "metadata": {},
   "outputs": [],
   "source": [
    "tables = [\"master_model\",\n",
    "    \"second_model\",\n",
    "    \"third_model\",\n",
    "    \"fourth_model\",\n",
    "    \"fifth_model\",\n",
    "    \"sixth_model\",\n",
    "    \"seventh_model\",\n",
    "    \"cinema_tickets\"]"
   ]
  },
  {
   "cell_type": "markdown",
   "id": "c091851a",
   "metadata": {},
   "source": [
    "For Loop to convert each mdoel into a csv file:"
   ]
  },
  {
   "cell_type": "code",
   "execution_count": 32,
   "id": "cdde7e3a",
   "metadata": {},
   "outputs": [
    {
     "name": "stdout",
     "output_type": "stream",
     "text": [
      "✅ Exported master_model to master_model.csv\n",
      "✅ Exported second_model to second_model.csv\n",
      "✅ Exported third_model to third_model.csv\n",
      "✅ Exported fourth_model to fourth_model.csv\n",
      "✅ Exported fifth_model to fifth_model.csv\n",
      "✅ Exported sixth_model to sixth_model.csv\n",
      "✅ Exported seventh_model to seventh_model.csv\n",
      "✅ Exported cinema_tickets to cinema_tickets.csv\n"
     ]
    }
   ],
   "source": [
    "for table in tables:\n",
    "    file_name = f\"{table}.csv\"\n",
    "    conn.execute(f\"\"\"\n",
    "        COPY {table} TO '{file_name}' (HEADER, DELIMITER ',');\n",
    "    \"\"\")\n",
    "    print(f\"✅ Exported {table} to {file_name}\")\n"
   ]
  },
  {
   "cell_type": "markdown",
   "id": "0f89a4d7",
   "metadata": {},
   "source": [
    "to close connection with the database:"
   ]
  },
  {
   "cell_type": "code",
   "execution_count": null,
   "id": "80afe30e",
   "metadata": {},
   "outputs": [],
   "source": [
    "#conn.close()"
   ]
  }
 ],
 "metadata": {
  "kernelspec": {
   "display_name": "venv",
   "language": "python",
   "name": "python3"
  },
  "language_info": {
   "codemirror_mode": {
    "name": "ipython",
    "version": 3
   },
   "file_extension": ".py",
   "mimetype": "text/x-python",
   "name": "python",
   "nbconvert_exporter": "python",
   "pygments_lexer": "ipython3",
   "version": "3.13.2"
  }
 },
 "nbformat": 4,
 "nbformat_minor": 5
}
